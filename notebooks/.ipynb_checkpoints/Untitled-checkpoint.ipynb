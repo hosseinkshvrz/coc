{
 "cells": [
  {
   "cell_type": "code",
   "execution_count": 1,
   "metadata": {},
   "outputs": [],
   "source": [
    "%config Completer.use_jedi = False"
   ]
  },
  {
   "cell_type": "code",
   "execution_count": 2,
   "metadata": {},
   "outputs": [],
   "source": [
    "import pandas as pd"
   ]
  },
  {
   "cell_type": "code",
   "execution_count": 3,
   "metadata": {},
   "outputs": [
    {
     "data": {
      "text/html": [
       "<div>\n",
       "<style scoped>\n",
       "    .dataframe tbody tr th:only-of-type {\n",
       "        vertical-align: middle;\n",
       "    }\n",
       "\n",
       "    .dataframe tbody tr th {\n",
       "        vertical-align: top;\n",
       "    }\n",
       "\n",
       "    .dataframe thead th {\n",
       "        text-align: right;\n",
       "    }\n",
       "</style>\n",
       "<table border=\"1\" class=\"dataframe\">\n",
       "  <thead>\n",
       "    <tr style=\"text-align: right;\">\n",
       "      <th></th>\n",
       "      <th>repository_url</th>\n",
       "      <th>user_login</th>\n",
       "      <th>user_name</th>\n",
       "      <th>n_pr_before_coc</th>\n",
       "      <th>n_pr_after_coc</th>\n",
       "    </tr>\n",
       "  </thead>\n",
       "  <tbody>\n",
       "    <tr>\n",
       "      <th>0</th>\n",
       "      <td>neo4jrb/activegraph</td>\n",
       "      <td>yourpalal</td>\n",
       "      <td>Alex Wilson</td>\n",
       "      <td>0</td>\n",
       "      <td>3</td>\n",
       "    </tr>\n",
       "    <tr>\n",
       "      <th>1</th>\n",
       "      <td>neo4jrb/activegraph</td>\n",
       "      <td>EugeneIstomin</td>\n",
       "      <td>NaN</td>\n",
       "      <td>0</td>\n",
       "      <td>1</td>\n",
       "    </tr>\n",
       "    <tr>\n",
       "      <th>2</th>\n",
       "      <td>neo4jrb/activegraph</td>\n",
       "      <td>joshjordan</td>\n",
       "      <td>Josh Jordan</td>\n",
       "      <td>0</td>\n",
       "      <td>5</td>\n",
       "    </tr>\n",
       "    <tr>\n",
       "      <th>3</th>\n",
       "      <td>neo4jrb/activegraph</td>\n",
       "      <td>JacobGalati</td>\n",
       "      <td>Jacob Galati</td>\n",
       "      <td>0</td>\n",
       "      <td>1</td>\n",
       "    </tr>\n",
       "    <tr>\n",
       "      <th>4</th>\n",
       "      <td>neo4jrb/activegraph</td>\n",
       "      <td>mrhardikjoshi</td>\n",
       "      <td>Hardik Joshi</td>\n",
       "      <td>0</td>\n",
       "      <td>4</td>\n",
       "    </tr>\n",
       "    <tr>\n",
       "      <th>...</th>\n",
       "      <td>...</td>\n",
       "      <td>...</td>\n",
       "      <td>...</td>\n",
       "      <td>...</td>\n",
       "      <td>...</td>\n",
       "    </tr>\n",
       "    <tr>\n",
       "      <th>124</th>\n",
       "      <td>neo4jrb/activegraph</td>\n",
       "      <td>wtn</td>\n",
       "      <td>William T. Nelson</td>\n",
       "      <td>2</td>\n",
       "      <td>0</td>\n",
       "    </tr>\n",
       "    <tr>\n",
       "      <th>125</th>\n",
       "      <td>neo4jrb/activegraph</td>\n",
       "      <td>jneen</td>\n",
       "      <td>Jeanine Adkisson</td>\n",
       "      <td>1</td>\n",
       "      <td>0</td>\n",
       "    </tr>\n",
       "    <tr>\n",
       "      <th>126</th>\n",
       "      <td>neo4jrb/activegraph</td>\n",
       "      <td>shageman</td>\n",
       "      <td>Stephan Hagemann</td>\n",
       "      <td>1</td>\n",
       "      <td>0</td>\n",
       "    </tr>\n",
       "    <tr>\n",
       "      <th>127</th>\n",
       "      <td>neo4jrb/activegraph</td>\n",
       "      <td>dvantuyl</td>\n",
       "      <td>Dwight van Tuyl</td>\n",
       "      <td>1</td>\n",
       "      <td>0</td>\n",
       "    </tr>\n",
       "    <tr>\n",
       "      <th>128</th>\n",
       "      <td>neo4jrb/activegraph</td>\n",
       "      <td>peterneubauer</td>\n",
       "      <td>Peter Neubauer</td>\n",
       "      <td>1</td>\n",
       "      <td>0</td>\n",
       "    </tr>\n",
       "  </tbody>\n",
       "</table>\n",
       "<p>129 rows × 5 columns</p>\n",
       "</div>"
      ],
      "text/plain": [
       "          repository_url     user_login          user_name  n_pr_before_coc  \\\n",
       "0    neo4jrb/activegraph      yourpalal        Alex Wilson                0   \n",
       "1    neo4jrb/activegraph  EugeneIstomin                NaN                0   \n",
       "2    neo4jrb/activegraph     joshjordan        Josh Jordan                0   \n",
       "3    neo4jrb/activegraph    JacobGalati       Jacob Galati                0   \n",
       "4    neo4jrb/activegraph  mrhardikjoshi       Hardik Joshi                0   \n",
       "..                   ...            ...                ...              ...   \n",
       "124  neo4jrb/activegraph            wtn  William T. Nelson                2   \n",
       "125  neo4jrb/activegraph          jneen   Jeanine Adkisson                1   \n",
       "126  neo4jrb/activegraph       shageman   Stephan Hagemann                1   \n",
       "127  neo4jrb/activegraph       dvantuyl    Dwight van Tuyl                1   \n",
       "128  neo4jrb/activegraph  peterneubauer     Peter Neubauer                1   \n",
       "\n",
       "     n_pr_after_coc  \n",
       "0                 3  \n",
       "1                 1  \n",
       "2                 5  \n",
       "3                 1  \n",
       "4                 4  \n",
       "..              ...  \n",
       "124               0  \n",
       "125               0  \n",
       "126               0  \n",
       "127               0  \n",
       "128               0  \n",
       "\n",
       "[129 rows x 5 columns]"
      ]
     },
     "execution_count": 3,
     "metadata": {},
     "output_type": "execute_result"
    }
   ],
   "source": [
    "df = pd.read_csv('../data/prs/contributors/activegraph_contributors.csv')\n",
    "df"
   ]
  },
  {
   "cell_type": "code",
   "execution_count": 10,
   "metadata": {},
   "outputs": [
    {
     "data": {
      "text/plain": [
       "0             Alex Wilson\n",
       "2             Josh Jordan\n",
       "3            Jacob Galati\n",
       "4            Hardik Joshi\n",
       "5      Heinrich Klobuczek\n",
       "              ...        \n",
       "124     William T. Nelson\n",
       "125      Jeanine Adkisson\n",
       "126      Stephan Hagemann\n",
       "127       Dwight van Tuyl\n",
       "128        Peter Neubauer\n",
       "Name: user_name, Length: 120, dtype: object"
      ]
     },
     "execution_count": 10,
     "metadata": {},
     "output_type": "execute_result"
    }
   ],
   "source": [
    "names = df.dropna(subset=['user_name'])['user_name']\n",
    "names"
   ]
  },
  {
   "cell_type": "code",
   "execution_count": 12,
   "metadata": {},
   "outputs": [],
   "source": [
    "pd.DataFrame({'name': names}).to_csv('../names.csv', index=False)"
   ]
  }
 ],
 "metadata": {
  "kernelspec": {
   "display_name": "Python 3",
   "language": "python",
   "name": "python3"
  },
  "language_info": {
   "codemirror_mode": {
    "name": "ipython",
    "version": 3
   },
   "file_extension": ".py",
   "mimetype": "text/x-python",
   "name": "python",
   "nbconvert_exporter": "python",
   "pygments_lexer": "ipython3",
   "version": "3.8.10"
  }
 },
 "nbformat": 4,
 "nbformat_minor": 4
}
